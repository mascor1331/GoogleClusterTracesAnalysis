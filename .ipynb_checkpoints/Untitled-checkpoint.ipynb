{
 "cells": [
  {
   "cell_type": "code",
   "execution_count": 36,
   "metadata": {},
   "outputs": [],
   "source": [
    "import csv\n",
    "\n",
    "machineEvents = []\n",
    "\n",
    "with open('clusterdata-2011-2/machine_events/part-00000-of-00001.csv') as f:\n",
    "    machineEventsCSV = csv.reader(f)\n",
    "    for row in machineEventsCSV:\n",
    "        if(int(row[0]) > 600 * 1000000 and int(row[0]) < 9223372036854775807):\n",
    "            machineEvents.append({'timestamp': (int(row[0]) / 1000000 - 600) / 60, 'machineID': int(row[1]), 'eventType': int(row[2])})"
   ]
  },
  {
   "cell_type": "code",
   "execution_count": 43,
   "metadata": {},
   "outputs": [
    {
     "name": "stdout",
     "output_type": "stream",
     "text": [
      "25303\n",
      "2\n"
     ]
    }
   ],
   "source": [
    "print(len(machineEvents))\n",
    "print(machineEvents[1]['eventType'])"
   ]
  },
  {
   "cell_type": "code",
   "execution_count": 44,
   "metadata": {},
   "outputs": [],
   "source": [
    "downtime = []\n",
    "\n",
    "for i in range(0, len(machineEvents) - 1):\n",
    "    if machineEvents[i]['eventType'] == 1:\n",
    "        for j in range(i + 1, len(machineEvents) - 1):\n",
    "            if (machineEvents[j]['machineID'] == machineEvents[i]['machineID'] and machineEvents[j]['eventType'] == 0):\n",
    "                downtime.append(machineEvents[j]['timestamp'] - machineEvents[i]['timestamp'])\n",
    "                break"
   ]
  },
  {
   "cell_type": "code",
   "execution_count": 47,
   "metadata": {},
   "outputs": [
    {
     "name": "stdout",
     "output_type": "stream",
     "text": [
      "8860\n"
     ]
    }
   ],
   "source": [
    "print(len(downtime))"
   ]
  },
  {
   "cell_type": "code",
   "execution_count": 48,
   "metadata": {},
   "outputs": [
    {
     "name": "stdout",
     "output_type": "stream",
     "text": [
      "17406.09108051667\n"
     ]
    }
   ],
   "source": [
    "print(max(downtime))"
   ]
  },
  {
   "cell_type": "code",
   "execution_count": 81,
   "metadata": {},
   "outputs": [
    {
     "data": {
      "text/plain": [
       "<matplotlib.figure.Figure at 0x1156fabe0>"
      ]
     },
     "metadata": {},
     "output_type": "display_data"
    },
    {
     "data": {
      "image/png": "[encoded data removed]",
      "text/plain": [
       "<matplotlib.figure.Figure at 0x1152aab38>"
      ]
     },
     "metadata": {},
     "output_type": "display_data"
    }
   ],
   "source": [
    "import numpy as np\n",
    "import matplotlib.pyplot as plt\n",
    "\n",
    "downtimeArray = np.array(downtime)\n",
    "downtimeSorted = np.sort(downtimeArray)\n",
    "\n",
    "p = 1. * np.arange(len(downtimeArray)) / (len(downtimeArray) - 1)\n",
    "\n",
    "fig1 = plt.figure()\n",
    "\n",
    "ax1 = fig1.add_subplot(111)\n",
    "ax1.plot(downtimeSorted, p)\n",
    "ax1.set_xlabel('$downtime(min)$')\n",
    "ax1.set_ylabel('$P$')\n",
    "\n",
    "plt.show()\n",
    "plt.gcf().clear()"
   ]
  },
  {
   "cell_type": "code",
   "execution_count": 82,
   "metadata": {},
   "outputs": [
    {
     "data": {
      "text/plain": [
       "<matplotlib.figure.Figure at 0x11526a6a0>"
      ]
     },
     "metadata": {},
     "output_type": "display_data"
    },
    {
     "data": {
      "image/png": "[encoded data removed]",
      "text/plain": [
       "<matplotlib.figure.Figure at 0x1150a5278>"
      ]
     },
     "metadata": {},
     "output_type": "display_data"
    }
   ],
   "source": [
    "fig2 = plt.figure()\n",
    "ax2 = fig2.add_subplot(111)\n",
    "ax2.plot(downtimeSorted, p)\n",
    "ax2.set_xscale('log')\n",
    "ax2.set_xlabel('$downtime(min)$')\n",
    "ax2.set_ylabel('$P$')\n",
    "\n",
    "plt.show()\n",
    "plt.gcf().clear()"
   ]
  },
  {
   "cell_type": "code",
   "execution_count": null,
   "metadata": {
    "collapsed": true
   },
   "outputs": [],
   "source": []
  }
 ],
 "metadata": {
  "kernelspec": {
   "display_name": "Python 3",
   "language": "python",
   "name": "python3"
  },
  "language_info": {
   "codemirror_mode": {
    "name": "ipython",
    "version": 3
   },
   "file_extension": ".py",
   "mimetype": "text/x-python",
   "name": "python",
   "nbconvert_exporter": "python",
   "pygments_lexer": "ipython3",
   "version": "3.6.1"
  }
 },
 "nbformat": 4,
 "nbformat_minor": 2
}
